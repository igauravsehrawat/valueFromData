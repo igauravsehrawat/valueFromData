{
 "cells": [
  {
   "cell_type": "code",
   "execution_count": 1,
   "metadata": {
    "collapsed": false
   },
   "outputs": [
    {
     "name": "stdout",
     "output_type": "stream",
     "text": [
      "-2.73708571376\n",
      "-inf\n",
      "-3.44018322518\n"
     ]
    }
   ],
   "source": [
    "from pomegranate import *\n",
    "\n",
    "a = NormalDistribution( 5, 2 )\n",
    "b = TriangleKernelDensity( [1,5,2,3,4], weights=[4,2,6,3,1] )\n",
    "c = MixtureDistribution( [ NormalDistribution( 2, 4 ), ExponentialDistribution( 8 ) ], weights=[1, 0.01] )\n",
    "\n",
    "print a.log_probability( 8 )\n",
    "print b.log_probability( 8 )\n",
    "print c.log_probability( 8 )"
   ]
  },
  {
   "cell_type": "code",
   "execution_count": 2,
   "metadata": {
    "collapsed": false
   },
   "outputs": [
    {
     "ename": "AttributeError",
     "evalue": "'pomegranate.fsm.FiniteStateMachine' object has no attribute 'add_states'",
     "output_type": "error",
     "traceback": [
      "\u001b[1;31m---------------------------------------------------------------------------\u001b[0m",
      "\u001b[1;31mAttributeError\u001b[0m                            Traceback (most recent call last)",
      "\u001b[1;32m<ipython-input-2-2cce24896628>\u001b[0m in \u001b[0;36m<module>\u001b[1;34m()\u001b[0m\n\u001b[0;32m     13\u001b[0m \u001b[1;33m\u001b[0m\u001b[0m\n\u001b[0;32m     14\u001b[0m \u001b[1;31m# Add the states to the machine\u001b[0m\u001b[1;33m\u001b[0m\u001b[1;33m\u001b[0m\u001b[0m\n\u001b[1;32m---> 15\u001b[1;33m \u001b[0mmodel\u001b[0m\u001b[1;33m.\u001b[0m\u001b[0madd_states\u001b[0m\u001b[1;33m(\u001b[0m \u001b[1;33m[\u001b[0m\u001b[0ma\u001b[0m\u001b[1;33m,\u001b[0m \u001b[0mb\u001b[0m\u001b[1;33m,\u001b[0m \u001b[0mc\u001b[0m\u001b[1;33m,\u001b[0m \u001b[0md\u001b[0m\u001b[1;33m,\u001b[0m \u001b[0me\u001b[0m\u001b[1;33m,\u001b[0m \u001b[0mf\u001b[0m\u001b[1;33m]\u001b[0m \u001b[1;33m)\u001b[0m\u001b[1;33m\u001b[0m\u001b[0m\n\u001b[0m\u001b[0;32m     16\u001b[0m \u001b[1;33m\u001b[0m\u001b[0m\n\u001b[0;32m     17\u001b[0m \u001b[1;31m# Connect the states according to possible transitions\u001b[0m\u001b[1;33m\u001b[0m\u001b[1;33m\u001b[0m\u001b[0m\n",
      "\u001b[1;31mAttributeError\u001b[0m: 'pomegranate.fsm.FiniteStateMachine' object has no attribute 'add_states'"
     ]
    }
   ],
   "source": [
    "from pomegranate import *\n",
    "\n",
    "# Create the states in the same way as you would an HMM\n",
    "a = State( DiscreteDistribution({  0 : 1.0 }), name=\"0\" )\n",
    "b = State( DiscreteDistribution({  5 : 1.0 }), name=\"5\" )\n",
    "c = State( DiscreteDistribution({  5 : 1.0 }), name=\"10a\" )\n",
    "d = State( DiscreteDistribution({  5 : 1.0 }), name=\"15a\" )\n",
    "e = State( DiscreteDistribution({ 10 : 1.0 }), name=\"10b\" )\n",
    "f = State( DiscreteDistribution({ 10 : 1.0 }), name=\"15b\" )\n",
    "\n",
    "# Create a FiniteStateMachine object \n",
    "model = FiniteStateMachine( \"Vending Machine\", start=a )\n",
    "\n",
    "# Add the states to the machine\n",
    "model.add_states( [a, b, c, d, e, f] )\n",
    "\n",
    "# Connect the states according to possible transitions\n",
    "model.add_transition( a, b )\n",
    "model.add_transition( a, a )\n",
    "model.add_transition( a, e )\n",
    "model.add_transition( b, c )\n",
    "model.add_transition( b, f )\n",
    "model.add_transition( c, e )\n",
    "model.add_transition( d, a )\n",
    "model.add_transition( e, d )\n",
    "model.add_transition( e, f )\n",
    "model.add_transition( f, a )\n",
    "\n",
    "# Bake the model in the same way\n",
    "model.bake( merge=False )"
   ]
  },
  {
   "cell_type": "code",
   "execution_count": 3,
   "metadata": {
    "collapsed": false
   },
   "outputs": [
    {
     "ename": "AttributeError",
     "evalue": "'pomegranate.fsm.FiniteStateMachine' object has no attribute 'add_states'",
     "output_type": "error",
     "traceback": [
      "\u001b[1;31m---------------------------------------------------------------------------\u001b[0m",
      "\u001b[1;31mAttributeError\u001b[0m                            Traceback (most recent call last)",
      "\u001b[1;32m<ipython-input-3-c5f2606050ee>\u001b[0m in \u001b[0;36m<module>\u001b[1;34m()\u001b[0m\n\u001b[0;32m     28\u001b[0m \u001b[1;31m# Create the FiniteStateMachine instance and add the states\u001b[0m\u001b[1;33m\u001b[0m\u001b[1;33m\u001b[0m\u001b[0m\n\u001b[0;32m     29\u001b[0m \u001b[0mfsm\u001b[0m \u001b[1;33m=\u001b[0m \u001b[0mFiniteStateMachine\u001b[0m\u001b[1;33m(\u001b[0m \u001b[1;34m\"HT\"\u001b[0m \u001b[1;33m)\u001b[0m\u001b[1;33m\u001b[0m\u001b[0m\n\u001b[1;32m---> 30\u001b[1;33m \u001b[0mfsm\u001b[0m\u001b[1;33m.\u001b[0m\u001b[0madd_states\u001b[0m\u001b[1;33m(\u001b[0m\u001b[1;33m[\u001b[0m\u001b[0mfair\u001b[0m\u001b[1;33m,\u001b[0m \u001b[0munfair\u001b[0m\u001b[1;33m]\u001b[0m\u001b[1;33m)\u001b[0m\u001b[1;33m\u001b[0m\u001b[0m\n\u001b[0m\u001b[0;32m     31\u001b[0m \u001b[1;33m\u001b[0m\u001b[0m\n\u001b[0;32m     32\u001b[0m \u001b[1;31m# We don't know which coin he chose to start off with\u001b[0m\u001b[1;33m\u001b[0m\u001b[1;33m\u001b[0m\u001b[0m\n",
      "\u001b[1;31mAttributeError\u001b[0m: 'pomegranate.fsm.FiniteStateMachine' object has no attribute 'add_states'"
     ]
    }
   ],
   "source": [
    "from pomegranate import *\n",
    "\n",
    "fair = State( DiscreteDistribution({ 'H' : 0.5, 'T' : 0.5 }), \"fair\" )\n",
    "unfair = State( DiscreteDistribution({ 'H' : 0.75, 'T' : 0.25 }), \"unfair\" )\n",
    "\n",
    "# Transition Probabilities\n",
    "stay_same = 0.75\n",
    "change = 1. - stay_same\n",
    "\n",
    "# Create the HiddenMarkovModel instance and add the states\n",
    "hmm = HiddenMarkovModel( \"HT\" )\n",
    "hmm.add_states([fair, unfair])\n",
    "\n",
    "# We don't know which coin he chose to start off with\n",
    "hmm.add_transition( hmm.start, fair, 0.5 )\n",
    "hmm.add_transition( hmm.start, unfair, 0.5 )\n",
    "\n",
    "# However, we do know it's hard for him to switch\n",
    "hmm.add_transition( fair, fair, stay_same )\n",
    "hmm.add_transition( fair, unfair, change )\n",
    "\n",
    "hmm.add_transition( unfair, unfair, stay_same )\n",
    "hmm.add_transition( unfair, fair, change )\n",
    "\n",
    "hmm.bake()\n",
    "\n",
    "\n",
    "# Create the FiniteStateMachine instance and add the states\n",
    "fsm = FiniteStateMachine( \"HT\" )\n",
    "fsm.add_states([fair, unfair])\n",
    "\n",
    "# We don't know which coin he chose to start off with\n",
    "fsm.add_transition( fsm.start, fair, 0.5 )\n",
    "fsm.add_transition( fsm.start, unfair, 0.5 )\n",
    "\n",
    "fsm.add_transition( fair, fair, stay_same )\n",
    "fsm.add_transition( fair, unfair, change )\n",
    "\n",
    "fsm.add_transition( unfair, unfair, stay_same )\n",
    "fsm.add_transition( unfair, fair, change )\n",
    "\n",
    "fsm.bake()"
   ]
  },
  {
   "cell_type": "code",
   "execution_count": 6,
   "metadata": {
    "collapsed": false
   },
   "outputs": [
    {
     "name": "stdout",
     "output_type": "stream",
     "text": [
      "Sequence: 'ACT'  -- Log Probability: -0.513244900357 -- Path: M1 M2 M3\n",
      "Sequence: 'GGC'  -- Log Probability: -11.0481012413 -- Path: I0 I0 D1 M2 D3\n",
      "Sequence: 'GAT'  -- Log Probability: -9.12551967402 -- Path: I0 M1 D2 M3\n",
      "Sequence: 'ACC'  -- Log Probability: -5.08795587886 -- Path: M1 M2 M3\n"
     ]
    }
   ],
   "source": [
    "from pomegranate import *\n",
    "model = HiddenMarkovModel( \"Global Sequence Aligner\" )\n",
    "\n",
    "# Define the distribution for insertions\n",
    "i_d = DiscreteDistribution( { 'A': 0.25, 'C': 0.25, 'G': 0.25, 'T': 0.25 } )\n",
    "\n",
    "# Create the insert states, each with a uniform insertion distribution\n",
    "i0 = State( i_d, name=\"I0\" )\n",
    "i1 = State( i_d, name=\"I1\" )\n",
    "i2 = State( i_d, name=\"I2\" )\n",
    "i3 = State( i_d, name=\"I3\" )\n",
    "\n",
    "# Create the match states with small chances of mismatches\n",
    "m1 = State( DiscreteDistribution({ \"A\": 0.95, 'C': 0.01, 'G': 0.01, 'T': 0.02 }) , name=\"M1\" )\n",
    "m2 = State( DiscreteDistribution({ \"A\": 0.003, 'C': 0.99, 'G': 0.003, 'T': 0.004 }) , name=\"M2\" )\n",
    "m3 = State( DiscreteDistribution({ \"A\": 0.01, 'C': 0.01, 'G': 0.01, 'T': 0.97 }) , name=\"M3\" )\n",
    "\n",
    "# Create the silent delete states\n",
    "d1 = State( None, name=\"D1\" )\n",
    "d2 = State( None, name=\"D2\" )\n",
    "d3 = State( None, name=\"D3\" )\n",
    "\n",
    "# Add all the states to the model\n",
    "model.add_states( [i0, i1, i2, i3, m1, m2, m3, d1, d2, d3 ] )\n",
    "\n",
    "# Create transitions from match states\n",
    "model.add_transition( model.start, m1, 0.9 )\n",
    "model.add_transition( model.start, i0, 0.1 )\n",
    "model.add_transition( m1, m2, 0.9 )\n",
    "model.add_transition( m1, i1, 0.05 )\n",
    "model.add_transition( m1, d2, 0.05 )\n",
    "model.add_transition( m2, m3, 0.9 )\n",
    "model.add_transition( m2, i2, 0.05 )\n",
    "model.add_transition( m2, d3, 0.05 )\n",
    "model.add_transition( m3, model.end, 0.9 )\n",
    "model.add_transition( m3, i3, 0.1 )\n",
    "\n",
    "# Create transitions from insert states\n",
    "model.add_transition( i0, i0, 0.70 )\n",
    "model.add_transition( i0, d1, 0.15 )\n",
    "model.add_transition( i0, m1, 0.15 )\n",
    "\n",
    "model.add_transition( i1, i1, 0.70 )\n",
    "model.add_transition( i1, d2, 0.15 )\n",
    "model.add_transition( i1, m2, 0.15 )\n",
    "\n",
    "model.add_transition( i2, i2, 0.70 )\n",
    "model.add_transition( i2, d3, 0.15 )\n",
    "model.add_transition( i2, m3, 0.15 )\n",
    "\n",
    "model.add_transition( i3, i3, 0.85 )\n",
    "model.add_transition( i3, model.end, 0.15 )\n",
    "\n",
    "# Create transitions from delete states\n",
    "model.add_transition( d1, d2, 0.15 )\n",
    "model.add_transition( d1, i1, 0.15 )\n",
    "model.add_transition( d1, m2, 0.70 ) \n",
    "\n",
    "model.add_transition( d2, d3, 0.15 )\n",
    "model.add_transition( d2, i2, 0.15 )\n",
    "model.add_transition( d2, m3, 0.70 )\n",
    "\n",
    "model.add_transition( d3, i3, 0.30 )\n",
    "model.add_transition( d3, model.end, 0.70 )\n",
    "\n",
    "# Call bake to finalize the structure of the model.\n",
    "model.bake()\n",
    "\n",
    "for sequence in map( list, ('ACT', 'GGC', 'GAT', 'ACC') ):\n",
    "    logp, path = model.viterbi( sequence )\n",
    "    print \"Sequence: '{}'  -- Log Probability: {} -- Path: {}\".format(''.join( sequence ), logp, \" \".join( state.name for idx, state in path[1:-1] ) )"
   ]
  },
  {
   "cell_type": "code",
   "execution_count": null,
   "metadata": {
    "collapsed": true
   },
   "outputs": [],
   "source": []
  }
 ],
 "metadata": {
  "kernelspec": {
   "display_name": "Python 2",
   "language": "python",
   "name": "python2"
  },
  "language_info": {
   "codemirror_mode": {
    "name": "ipython",
    "version": 2
   },
   "file_extension": ".py",
   "mimetype": "text/x-python",
   "name": "python",
   "nbconvert_exporter": "python",
   "pygments_lexer": "ipython2",
   "version": "2.7.6"
  }
 },
 "nbformat": 4,
 "nbformat_minor": 0
}
