{
 "cells": [
  {
   "cell_type": "code",
   "execution_count": 22,
   "metadata": {
    "collapsed": true
   },
   "outputs": [],
   "source": [
    "import csv\n",
    "import pandas as pd\n",
    "import numpy as np\n",
    "from sklearn.naive_bayes import MultinomialNB"
   ]
  },
  {
   "cell_type": "code",
   "execution_count": 40,
   "metadata": {
    "collapsed": true
   },
   "outputs": [],
   "source": [
    "##try pandas\n",
    "train_df = pd.read_csv(\"train.csv\")\n",
    "original_df = pd.read_csv(\"train.csv\")"
   ]
  },
  {
   "cell_type": "code",
   "execution_count": 45,
   "metadata": {
    "collapsed": false
   },
   "outputs": [],
   "source": [
    "train_df[\"Embarked\"] = pd.Categorical.from_array(train_df[\"Embarked\"]).codes"
   ]
  },
  {
   "cell_type": "code",
   "execution_count": 46,
   "metadata": {
    "collapsed": false
   },
   "outputs": [],
   "source": [
    "train_df[\"Sex\"] = pd.Categorical.from_array(train_df[\"Sex\"]).codes"
   ]
  },
  {
   "cell_type": "code",
   "execution_count": 48,
   "metadata": {
    "collapsed": false
   },
   "outputs": [],
   "source": [
    "#avoid negative values\n",
    "for cols in train_df.columns.tolist()[1:]:\n",
    "    \n",
    "    train_df = train_df.ix[train_df[cols] >= 0]"
   ]
  },
  {
   "cell_type": "code",
   "execution_count": 70,
   "metadata": {
    "collapsed": false
   },
   "outputs": [],
   "source": [
    "#This what i already have\n",
    "observation = []\n",
    "survivals = []\n",
    "for index, row in train_df.iterrows():\n",
    "    survivals.append(row['Survived'])\n",
    "    \n",
    "    observation.append([row['Pclass'], row['Sex'], row['Age'],  row['Fare'], row['Embarked'] ])\n",
    "\n",
    "\n",
    "np_observation = np.array(observation)\n",
    "np_survivals = np.array(survivals)\n"
   ]
  },
  {
   "cell_type": "code",
   "execution_count": 71,
   "metadata": {
    "collapsed": true
   },
   "outputs": [],
   "source": [
    "#This is fitting the missing values\n",
    "from sklearn.preprocessing import Imputer\n",
    "imp = Imputer(missing_values='NaN', strategy='mean', axis=0)\n",
    "imp = imp.fit(np_observation)\n",
    "\n",
    "# Impute our data, then train\n",
    "np_observation_imp = imp.transform(np_observation)"
   ]
  },
  {
   "cell_type": "code",
   "execution_count": 72,
   "metadata": {
    "collapsed": false
   },
   "outputs": [
    {
     "data": {
      "text/plain": [
       "MultinomialNB(alpha=1.0, class_prior=None, fit_prior=True)"
      ]
     },
     "execution_count": 72,
     "metadata": {},
     "output_type": "execute_result"
    }
   ],
   "source": [
    "##Model we are using is Multinomial\n",
    "titanic_clf_imp = MultinomialNB()\n",
    "titanic_clf_imp.fit(np_observation_imp,np_survivals)\n"
   ]
  },
  {
   "cell_type": "code",
   "execution_count": 98,
   "metadata": {
    "collapsed": true
   },
   "outputs": [],
   "source": [
    "test_df = pd.read_csv(\"test.csv\")\n",
    "test_df[\"Sex\"] = pd.Categorical.from_array(test_df[\"Sex\"]).codes\n",
    "test_df[\"Embarked\"] = pd.Categorical.from_array(test_df[\"Embarked\"]).codes"
   ]
  },
  {
   "cell_type": "code",
   "execution_count": 96,
   "metadata": {
    "collapsed": false
   },
   "outputs": [],
   "source": [
    "# #avoid negative values\n",
    "# for cols in test_df.columns.tolist()[1:]:\n",
    "    \n",
    "#     test_df = test_df.ix[test_df[cols] < 0]"
   ]
  },
  {
   "cell_type": "code",
   "execution_count": 100,
   "metadata": {
    "collapsed": false
   },
   "outputs": [
    {
     "data": {
      "text/plain": [
       "418"
      ]
     },
     "execution_count": 100,
     "metadata": {},
     "output_type": "execute_result"
    }
   ],
   "source": [
    "len(test_df)"
   ]
  },
  {
   "cell_type": "code",
   "execution_count": 101,
   "metadata": {
    "collapsed": false
   },
   "outputs": [],
   "source": [
    "test_data = []\n",
    "for index, row in test_df.iterrows():\n",
    "    test_data.append([row['Pclass'], row['Sex'], row['Age'],  row['Fare'], row['Embarked'] ])\n",
    "\n",
    "np_test= np.array(test_data)"
   ]
  },
  {
   "cell_type": "code",
   "execution_count": 102,
   "metadata": {
    "collapsed": false
   },
   "outputs": [],
   "source": [
    "from sklearn.preprocessing import Imputer\n",
    "imp = Imputer(missing_values='NaN', strategy='mean', axis=0)\n",
    "imp = imp.fit(np_test)\n",
    "\n",
    "# Impute our data, then train\n",
    "np_test_imp = imp.transform(np_test)\n",
    "submission2 = titanic_clf_imp.predict(np_test_imp)"
   ]
  },
  {
   "cell_type": "code",
   "execution_count": 103,
   "metadata": {
    "collapsed": false
   },
   "outputs": [],
   "source": [
    "test_df_survived =test_df\n",
    "test_df_survived['Survived'] = submission2"
   ]
  },
  {
   "cell_type": "code",
   "execution_count": 104,
   "metadata": {
    "collapsed": false
   },
   "outputs": [],
   "source": [
    "del test_df_survived[\"Sex\"]\n",
    "del test_df_survived[\"Age\"]\n",
    "del test_df_survived[\"SibSp\"]\n",
    "del test_df_survived[\"Parch\"]\n",
    "del test_df_survived[\"Ticket\"]\n",
    "del test_df_survived[\"Fare\"]\n",
    "del test_df_survived[\"Cabin\"]\n",
    "del test_df_survived[\"Embarked\"]\n",
    "del test_df_survived[\"Pclass\"]\n",
    "del test_df_survived[\"Name\"]"
   ]
  },
  {
   "cell_type": "code",
   "execution_count": 106,
   "metadata": {
    "collapsed": true
   },
   "outputs": [],
   "source": [
    "#Format as per kaggle\n",
    "test_df_survived.to_csv(\"submission2.csv\",sep=\",\", index=False)"
   ]
  },
  {
   "cell_type": "code",
   "execution_count": null,
   "metadata": {
    "collapsed": true
   },
   "outputs": [],
   "source": []
  }
 ],
 "metadata": {
  "kernelspec": {
   "display_name": "Python 2",
   "language": "python",
   "name": "python2"
  },
  "language_info": {
   "codemirror_mode": {
    "name": "ipython",
    "version": 2
   },
   "file_extension": ".py",
   "mimetype": "text/x-python",
   "name": "python",
   "nbconvert_exporter": "python",
   "pygments_lexer": "ipython2",
   "version": "2.7.6"
  }
 },
 "nbformat": 4,
 "nbformat_minor": 0
}
